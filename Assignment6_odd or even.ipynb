{
 "cells": [
  {
   "cell_type": "code",
   "execution_count": 2,
   "metadata": {},
   "outputs": [
    {
     "name": "stdout",
     "output_type": "stream",
     "text": [
      "even numbers available in the list: 4\n",
      "odd numbers available in the list: 6\n"
     ]
    }
   ],
   "source": [
    "list1=[21,3,4,6,33,2,3,1,3,76]\n",
    "even_count,odd_count=0,0\n",
    "for num in list1:\n",
    "    if num%2==0:\n",
    "      even_count+=1\n",
    "    else:\n",
    "        odd_count+=1\n",
    "print(\"even numbers available in the list:\",even_count)\n",
    "print(\"odd numbers available in the list:\",odd_count)\n",
    "\n",
    "    "
   ]
  },
  {
   "cell_type": "code",
   "execution_count": null,
   "metadata": {},
   "outputs": [],
   "source": []
  }
 ],
 "metadata": {
  "kernelspec": {
   "display_name": "Python 3",
   "language": "python",
   "name": "python3"
  },
  "language_info": {
   "codemirror_mode": {
    "name": "ipython",
    "version": 3
   },
   "file_extension": ".py",
   "mimetype": "text/x-python",
   "name": "python",
   "nbconvert_exporter": "python",
   "pygments_lexer": "ipython3",
   "version": "3.7.3"
  }
 },
 "nbformat": 4,
 "nbformat_minor": 4
}
