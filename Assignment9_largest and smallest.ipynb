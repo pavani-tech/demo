{
 "cells": [
  {
   "cell_type": "code",
   "execution_count": 3,
   "metadata": {},
   "outputs": [
    {
     "name": "stdout",
     "output_type": "stream",
     "text": [
      "how many numbers:6\n",
      "enter number5\n",
      "enter number4\n",
      "enter number3\n",
      "enter number6\n",
      "enter number7\n",
      "enter number1\n",
      "maximum element in the list is: 7\n",
      "maximun element in the list is: 1\n"
     ]
    }
   ],
   "source": [
    "list=[]\n",
    "num=int(input(\"how many numbers:\"))\n",
    "for n in range(num):\n",
    "    numbers=int(input(\"enter number\"))\n",
    "    list.append(numbers)\n",
    "print(\"maximum element in the list is:\",max(list))\n",
    "print(\"maximun element in the list is:\",min(list))"
   ]
  },
  {
   "cell_type": "code",
   "execution_count": null,
   "metadata": {},
   "outputs": [],
   "source": []
  }
 ],
 "metadata": {
  "kernelspec": {
   "display_name": "Python 3",
   "language": "python",
   "name": "python3"
  },
  "language_info": {
   "codemirror_mode": {
    "name": "ipython",
    "version": 3
   },
   "file_extension": ".py",
   "mimetype": "text/x-python",
   "name": "python",
   "nbconvert_exporter": "python",
   "pygments_lexer": "ipython3",
   "version": "3.7.3"
  }
 },
 "nbformat": 4,
 "nbformat_minor": 4
}
