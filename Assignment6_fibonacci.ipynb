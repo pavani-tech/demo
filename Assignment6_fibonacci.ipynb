{
 "cells": [
  {
   "cell_type": "code",
   "execution_count": 1,
   "metadata": {},
   "outputs": [
    {
     "name": "stdout",
     "output_type": "stream",
     "text": [
      "enter the ilmit4\n",
      "fibonacci series are:\n",
      "0\n",
      "1\n",
      "1\n",
      "2\n"
     ]
    }
   ],
   "source": [
    "n=int(input(\"enter the ilmit\"))\n",
    "a=0\n",
    "b=1\n",
    "count=0\n",
    "if n<0:\n",
    "    print(\"enter the positive number\")\n",
    "elif n==1:\n",
    "    print(\"fibonacci series upto\",n)\n",
    "    print(a)\n",
    "else:\n",
    "    print(\"fibonacci series are:\")\n",
    "    while count<n:\n",
    "        print(a)\n",
    "        sum=a+b\n",
    "        a=b\n",
    "        b=sum\n",
    "        count=count+1\n",
    "    "
   ]
  },
  {
   "cell_type": "code",
   "execution_count": null,
   "metadata": {},
   "outputs": [],
   "source": []
  }
 ],
 "metadata": {
  "kernelspec": {
   "display_name": "Python 3",
   "language": "python",
   "name": "python3"
  },
  "language_info": {
   "codemirror_mode": {
    "name": "ipython",
    "version": 3
   },
   "file_extension": ".py",
   "mimetype": "text/x-python",
   "name": "python",
   "nbconvert_exporter": "python",
   "pygments_lexer": "ipython3",
   "version": "3.7.3"
  }
 },
 "nbformat": 4,
 "nbformat_minor": 4
}
