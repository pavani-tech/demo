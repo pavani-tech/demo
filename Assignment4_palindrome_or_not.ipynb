{
 "cells": [
  {
   "cell_type": "code",
   "execution_count": 1,
   "metadata": {},
   "outputs": [
    {
     "name": "stdout",
     "output_type": "stream",
     "text": [
      "enter a number5\n",
      "the number is palindrome\n",
      "program executed\n"
     ]
    }
   ],
   "source": [
    "def palindrome():\n",
    "    try:\n",
    "        num=int(input(\"enter a number\"))\n",
    "    except  exception as ValueError:\n",
    "        print(\"invalid input enter a integer\")\n",
    "    else:\n",
    "        temp=num\n",
    "        rev=0\n",
    "        while(num>0):\n",
    "            dig=num%10\n",
    "            rev=rev*10+dig\n",
    "            num=num//10\n",
    "        if(temp==rev):\n",
    "            print(\"the number is palindrome\")\n",
    "        else:\n",
    "            print(\"not a palindrome\")\n",
    "    finally:\n",
    "        print(\"program executed\")\n",
    "palindrome()        \n",
    "        \n",
    "        "
   ]
  },
  {
   "cell_type": "code",
   "execution_count": null,
   "metadata": {},
   "outputs": [],
   "source": []
  }
 ],
 "metadata": {
  "kernelspec": {
   "display_name": "Python 3",
   "language": "python",
   "name": "python3"
  },
  "language_info": {
   "codemirror_mode": {
    "name": "ipython",
    "version": 3
   },
   "file_extension": ".py",
   "mimetype": "text/x-python",
   "name": "python",
   "nbconvert_exporter": "python",
   "pygments_lexer": "ipython3",
   "version": "3.7.3"
  }
 },
 "nbformat": 4,
 "nbformat_minor": 4
}
