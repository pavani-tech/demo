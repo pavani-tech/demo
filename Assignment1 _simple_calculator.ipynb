{
 "cells": [
  {
   "cell_type": "code",
   "execution_count": 3,
   "metadata": {},
   "outputs": [
    {
     "name": "stdout",
     "output_type": "stream",
     "text": [
      "enter your choices5\n",
      "modulus of two numbers is10\n"
     ]
    }
   ],
   "source": [
    "a=10\n",
    "b=20\n",
    "choices=int(input(\"enter your choices\"))\n",
    "if choices<8:\n",
    "    if choices==1:\n",
    "        print(\"addition of two numbers is {}\".format(a+b))\n",
    "    elif choices==2:\n",
    "        print(\"subtraction of two numbers is {}\".format(a-b))\n",
    "    elif choices==3:\n",
    "        print(\"multiplication of two numbers is {}\".format(a*b))\n",
    "    elif choices==4:\n",
    "        print(\"division of two numbers is {}\".format(a/b))\n",
    "    elif choices==5:\n",
    "        print(\"modulus of two numbers is{}\".format(a%b))\n",
    "    elif choices==6:\n",
    "        print(\"exponent of two numbers is{}\".format(a**b))\n",
    "    elif choices==7:\n",
    "        print(\"floor division of two numbers is{}\".format(a//b))\n",
    "    else:\n",
    "        pass\n",
    "else:\n",
    "    pass"
   ]
  },
  {
   "cell_type": "code",
   "execution_count": null,
   "metadata": {},
   "outputs": [],
   "source": []
  },
  {
   "cell_type": "code",
   "execution_count": null,
   "metadata": {},
   "outputs": [],
   "source": []
  }
 ],
 "metadata": {
  "kernelspec": {
   "display_name": "Python 3",
   "language": "python",
   "name": "python3"
  },
  "language_info": {
   "codemirror_mode": {
    "name": "ipython",
    "version": 3
   },
   "file_extension": ".py",
   "mimetype": "text/x-python",
   "name": "python",
   "nbconvert_exporter": "python",
   "pygments_lexer": "ipython3",
   "version": "3.7.3"
  }
 },
 "nbformat": 4,
 "nbformat_minor": 4
}
