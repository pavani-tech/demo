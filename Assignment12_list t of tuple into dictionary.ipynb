{
 "cells": [
  {
   "cell_type": "code",
   "execution_count": 1,
   "metadata": {},
   "outputs": [
    {
     "name": "stdout",
     "output_type": "stream",
     "text": [
      "the dictionary is::> {'pavani': 5, 'rohini': 10, 'aruna': 15, 'murali': 20}\n"
     ]
    }
   ],
   "source": [
    "def listtodict(A,di):\n",
    "    di=dict(A)\n",
    "    return di\n",
    "A=[(\"pavani\",5),(\"rohini\",10),(\"aruna\",15),(\"murali\",20)]\n",
    "di={}\n",
    "print(\"the dictionary is::>\",listtodict(A,di))\n",
    "\n",
    "    "
   ]
  },
  {
   "cell_type": "code",
   "execution_count": null,
   "metadata": {},
   "outputs": [],
   "source": []
  }
 ],
 "metadata": {
  "kernelspec": {
   "display_name": "Python 3",
   "language": "python",
   "name": "python3"
  },
  "language_info": {
   "codemirror_mode": {
    "name": "ipython",
    "version": 3
   },
   "file_extension": ".py",
   "mimetype": "text/x-python",
   "name": "python",
   "nbconvert_exporter": "python",
   "pygments_lexer": "ipython3",
   "version": "3.7.3"
  }
 },
 "nbformat": 4,
 "nbformat_minor": 4
}
