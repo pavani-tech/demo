{
 "cells": [
  {
   "cell_type": "code",
   "execution_count": 3,
   "metadata": {},
   "outputs": [
    {
     "name": "stdout",
     "output_type": "stream",
     "text": [
      "enter any number:5\n",
      "5 is a prime number\n",
      "5 is a prime number\n",
      "5 is a prime number\n"
     ]
    }
   ],
   "source": [
    "def prime():\n",
    "    num=int(input(\"enter any number:\"))\n",
    "    if num>1:\n",
    "        for i in range(2,num):\n",
    "            if(num%i==0):\n",
    "                print(num,\"is not a prime number\")\n",
    "                break\n",
    "            else:\n",
    "                print(num,\"is a prime number\")\n",
    "    else:\n",
    "        print(num,\"is not a prime number\")\n",
    "prime()        \n",
    "                      "
   ]
  },
  {
   "cell_type": "code",
   "execution_count": null,
   "metadata": {},
   "outputs": [],
   "source": []
  }
 ],
 "metadata": {
  "kernelspec": {
   "display_name": "Python 3",
   "language": "python",
   "name": "python3"
  },
  "language_info": {
   "codemirror_mode": {
    "name": "ipython",
    "version": 3
   },
   "file_extension": ".py",
   "mimetype": "text/x-python",
   "name": "python",
   "nbconvert_exporter": "python",
   "pygments_lexer": "ipython3",
   "version": "3.7.3"
  }
 },
 "nbformat": 4,
 "nbformat_minor": 4
}
