{
 "cells": [
  {
   "cell_type": "code",
   "execution_count": 1,
   "metadata": {},
   "outputs": [
    {
     "name": "stdout",
     "output_type": "stream",
     "text": [
      "('g', 'n', 'i', 'm', 'm', 'a', 'r', 'g', 'o', 'r', 'p')\n",
      "(20, 15, 10, 5)\n"
     ]
    }
   ],
   "source": [
    "x=(\"programming\")\n",
    "y=reversed(x)\n",
    "print(tuple(y))\n",
    "x=(5,10,15,20)\n",
    "y=reversed(x)\n",
    "print(tuple(y))"
   ]
  },
  {
   "cell_type": "code",
   "execution_count": null,
   "metadata": {},
   "outputs": [],
   "source": []
  }
 ],
 "metadata": {
  "kernelspec": {
   "display_name": "Python 3",
   "language": "python",
   "name": "python3"
  },
  "language_info": {
   "codemirror_mode": {
    "name": "ipython",
    "version": 3
   },
   "file_extension": ".py",
   "mimetype": "text/x-python",
   "name": "python",
   "nbconvert_exporter": "python",
   "pygments_lexer": "ipython3",
   "version": "3.7.3"
  }
 },
 "nbformat": 4,
 "nbformat_minor": 4
}
