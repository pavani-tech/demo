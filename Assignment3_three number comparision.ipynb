{
 "cells": [
  {
   "cell_type": "code",
   "execution_count": 1,
   "metadata": {},
   "outputs": [
    {
     "name": "stdout",
     "output_type": "stream",
     "text": [
      "enter first string:4\n",
      "enter second string5\n",
      "enter third string:6\n",
      "all strings are  not equal\n"
     ]
    }
   ],
   "source": [
    "str1=str(input(\"enter first string:\"))\n",
    "str2=str(input(\"enter second string\"))\n",
    "str3=str(input(\"enter third string:\"))\n",
    "if (str1==str2==str3):\n",
    "    print(\"All strings are equal\")\n",
    "elif(str1==str2 and (str1!=str3 or str2!=str3)):\n",
    "    print(\"first and second strings are equal\")\n",
    "elif(str1==str3 and (str1!=str2 or str3!=str2)):\n",
    "    print(\"first and third strings are equal\")\n",
    "elif(str2==str3 and (str2!=str1 or str3!=str1)):\n",
    "    print(\"second and third strings are equal\")\n",
    "else:\n",
    "    print(\"all strings are  not equal\")"
   ]
  },
  {
   "cell_type": "code",
   "execution_count": null,
   "metadata": {},
   "outputs": [],
   "source": []
  }
 ],
 "metadata": {
  "kernelspec": {
   "display_name": "Python 3",
   "language": "python",
   "name": "python3"
  },
  "language_info": {
   "codemirror_mode": {
    "name": "ipython",
    "version": 3
   },
   "file_extension": ".py",
   "mimetype": "text/x-python",
   "name": "python",
   "nbconvert_exporter": "python",
   "pygments_lexer": "ipython3",
   "version": "3.7.3"
  }
 },
 "nbformat": 4,
 "nbformat_minor": 4
}
