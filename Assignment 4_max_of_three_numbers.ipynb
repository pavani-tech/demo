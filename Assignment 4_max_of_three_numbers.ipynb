{
 "cells": [
  {
   "cell_type": "code",
   "execution_count": 1,
   "metadata": {},
   "outputs": [
    {
     "name": "stdout",
     "output_type": "stream",
     "text": [
      "enter num1:4\n",
      "enter num2:5\n",
      "enter num3:6\n",
      "maximum number is: 6\n"
     ]
    }
   ],
   "source": [
    "def max():\n",
    "    a=int(input(\"enter num1:\"))\n",
    "    b=int(input(\"enter num2:\"))\n",
    "    c=int(input(\"enter num3:\"))\n",
    "    if a==b==c:\n",
    "        print(\"all are equal..no maximum number\")\n",
    "    elif (a>b and a>c):\n",
    "        print(\"maximum number is:\",a)\n",
    "    elif (b>c and b>a):\n",
    "        print(\"maximum number is:\",b)\n",
    "    else:\n",
    "        print(\"maximum number is:\",c)\n",
    "max()        "
   ]
  },
  {
   "cell_type": "code",
   "execution_count": null,
   "metadata": {},
   "outputs": [],
   "source": []
  }
 ],
 "metadata": {
  "kernelspec": {
   "display_name": "Python 3",
   "language": "python",
   "name": "python3"
  },
  "language_info": {
   "codemirror_mode": {
    "name": "ipython",
    "version": 3
   },
   "file_extension": ".py",
   "mimetype": "text/x-python",
   "name": "python",
   "nbconvert_exporter": "python",
   "pygments_lexer": "ipython3",
   "version": "3.7.3"
  }
 },
 "nbformat": 4,
 "nbformat_minor": 4
}
